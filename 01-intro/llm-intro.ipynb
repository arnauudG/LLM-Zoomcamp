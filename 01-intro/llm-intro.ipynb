{
 "cells": [
  {
   "cell_type": "code",
   "execution_count": 4,
   "id": "d6212262-0a73-4752-b557-a2806e53c0ca",
   "metadata": {},
   "outputs": [],
   "source": [
    "import os\n",
    "from openai import OpenAI"
   ]
  },
  {
   "cell_type": "code",
   "execution_count": 5,
   "id": "2df09b42-a6c3-4659-b1cc-ef5512d368e4",
   "metadata": {},
   "outputs": [],
   "source": [
    "client = OpenAI(api_key = os.environ['OPENAI_API_KEY'])"
   ]
  },
  {
   "cell_type": "code",
   "execution_count": 30,
   "id": "63cc6c25-6262-42fb-a92f-53e972d59e17",
   "metadata": {},
   "outputs": [],
   "source": [
    "def get_response(client, model, system_context, assistant_context, user_context):\n",
    "    \n",
    "    response = client.chat.completions.create(\n",
    "        model=model,\n",
    "        messages=[\n",
    "            {\n",
    "                \"role\": \"system\", \"content\": system_context,\n",
    "                \"role\": \"assistant\", \"content\": assistant_context,\n",
    "                \"role\": \"user\", \"content\": user_context\n",
    "            }\n",
    "        ]\n",
    "    )\n",
    "    \n",
    "    output = response.choices[0].message.content\n",
    "    return output"
   ]
  },
  {
   "cell_type": "code",
   "execution_count": 31,
   "id": "45e63fab-2234-4fe7-837c-f55866a78390",
   "metadata": {},
   "outputs": [
    {
     "data": {
      "text/plain": [
       "'Overfitting is a phenomenon that occurs when a machine learning model learns the training data too well, to the point where it captures noise and random fluctuations in the data as if they were meaningful patterns. This can result in the model performing very well on the training data but poorly on new, unseen data. Overfitting is a common problem in machine learning and can be mitigated by techniques such as regularization, cross-validation, and using simpler models.'"
      ]
     },
     "execution_count": 31,
     "metadata": {},
     "output_type": "execute_result"
    }
   ],
   "source": [
    "get_response(client,\n",
    "             model=\"gpt-3.5-turbo\",\n",
    "             system_context = \"You 're an agent expert in data science.\",\n",
    "             assistant_context = \"\",\n",
    "             user_context = \"What is overfitting?\")"
   ]
  },
  {
   "cell_type": "code",
   "execution_count": 33,
   "id": "1300505d-bb5c-4062-a71d-af3850f051ce",
   "metadata": {},
   "outputs": [],
   "source": [
    "import minsearch"
   ]
  },
  {
   "cell_type": "code",
   "execution_count": null,
   "id": "2bb5ac30-344d-4594-b39f-2151828644d8",
   "metadata": {},
   "outputs": [],
   "source": []
  }
 ],
 "metadata": {
  "kernelspec": {
   "display_name": "Python 3 (ipykernel)",
   "language": "python",
   "name": "python3"
  },
  "language_info": {
   "codemirror_mode": {
    "name": "ipython",
    "version": 3
   },
   "file_extension": ".py",
   "mimetype": "text/x-python",
   "name": "python",
   "nbconvert_exporter": "python",
   "pygments_lexer": "ipython3",
   "version": "3.10.13"
  }
 },
 "nbformat": 4,
 "nbformat_minor": 5
}
