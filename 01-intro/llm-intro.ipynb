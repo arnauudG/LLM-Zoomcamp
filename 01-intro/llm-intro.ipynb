{
 "cells": [
  {
   "cell_type": "code",
   "execution_count": 7,
   "id": "d6212262-0a73-4752-b557-a2806e53c0ca",
   "metadata": {},
   "outputs": [],
   "source": [
    "import sys\n",
    "import os\n",
    "import json\n",
    "from openai import OpenAI"
   ]
  },
  {
   "cell_type": "code",
   "execution_count": 2,
   "id": "51e8c5de-7289-4e95-887a-c4d3ea633b32",
   "metadata": {},
   "outputs": [],
   "source": [
    "sys.path.append('..')"
   ]
  },
  {
   "cell_type": "code",
   "execution_count": 3,
   "id": "2df09b42-a6c3-4659-b1cc-ef5512d368e4",
   "metadata": {},
   "outputs": [],
   "source": [
    "client = OpenAI(api_key = os.environ['OPENAI_API_KEY'])"
   ]
  },
  {
   "cell_type": "code",
   "execution_count": 4,
   "id": "63cc6c25-6262-42fb-a92f-53e972d59e17",
   "metadata": {},
   "outputs": [],
   "source": [
    "def get_response(client, model, system_context, assistant_context, user_context):\n",
    "    \n",
    "    response = client.chat.completions.create(\n",
    "        model=model,\n",
    "        messages=[\n",
    "            {\n",
    "                \"role\": \"system\", \"content\": system_context,\n",
    "                \"role\": \"assistant\", \"content\": assistant_context,\n",
    "                \"role\": \"user\", \"content\": user_context\n",
    "            }\n",
    "        ]\n",
    "    )\n",
    "    \n",
    "    output = response.choices[0].message.content\n",
    "    return output"
   ]
  },
  {
   "cell_type": "code",
   "execution_count": 5,
   "id": "45e63fab-2234-4fe7-837c-f55866a78390",
   "metadata": {},
   "outputs": [
    {
     "data": {
      "text/plain": [
       "'Overfitting is a term used in machine learning to describe a model that performs well on training data but poorly on new, unseen data. This occurs when a model is too complex and learns the noise and fluctuations in the training data, rather than the underlying patterns or relationships. As a result, the model fails to generalize well to new data and makes incorrect predictions. Overfitting can be mitigated by techniques such as cross-validation, regularization, and early stopping.'"
      ]
     },
     "execution_count": 5,
     "metadata": {},
     "output_type": "execute_result"
    }
   ],
   "source": [
    "get_response(client,\n",
    "             model=\"gpt-3.5-turbo\",\n",
    "             system_context = \"You 're an agent expert in data science.\",\n",
    "             assistant_context = \"\",\n",
    "             user_context = \"What is overfitting?\")"
   ]
  },
  {
   "cell_type": "code",
   "execution_count": 6,
   "id": "1300505d-bb5c-4062-a71d-af3850f051ce",
   "metadata": {},
   "outputs": [],
   "source": [
    "import minsearch"
   ]
  },
  {
   "cell_type": "code",
   "execution_count": 14,
   "id": "2bb5ac30-344d-4594-b39f-2151828644d8",
   "metadata": {},
   "outputs": [],
   "source": [
    "# Preprocessing \n",
    "with open('../documents.json', 'rt') as f_in:\n",
    "    raw_documents = json.load(f_in)\n",
    "    docs = []\n",
    "    for course_dict in raw_documents:\n",
    "        for doc in course_dict['documents']:\n",
    "            doc[\"course\"] = course_dict['course']\n",
    "            docs.append(doc)"
   ]
  },
  {
   "cell_type": "code",
   "execution_count": 15,
   "id": "5b432b0f-22b8-416d-892d-d0c706e6b191",
   "metadata": {},
   "outputs": [
    {
     "data": {
      "text/plain": [
       "{'text': 'Problem description\\nInfrastructure created in AWS with CD-Deploy Action needs to be destroyed\\nSolution description\\nFrom local:\\nterraform init -backend-config=\"key=mlops-zoomcamp-prod.tfstate\" --reconfigure\\nterraform destroy --var-file vars/prod.tfvars\\nAdded by Erick Calderin',\n",
       " 'section': 'Module 6: Best practices',\n",
       " 'question': 'How to destroy infrastructure created via GitHub Actions',\n",
       " 'course': 'mlops-zoomcamp'}"
      ]
     },
     "execution_count": 15,
     "metadata": {},
     "output_type": "execute_result"
    }
   ],
   "source": [
    "doc"
   ]
  },
  {
   "cell_type": "code",
   "execution_count": 16,
   "id": "45fcf7a5-f624-4362-b8e6-37ee87ca4136",
   "metadata": {},
   "outputs": [],
   "source": [
    "index = minsearch.Index(\n",
    "    text_fields = [\"text\", \"section\", \"question\"],\n",
    "    keyword_fields = [\"course\"]\n",
    ")"
   ]
  },
  {
   "cell_type": "code",
   "execution_count": 17,
   "id": "347682ef-dc64-4ad7-9803-c2568cdc01d8",
   "metadata": {},
   "outputs": [],
   "source": [
    "q = 'Is the course already started? Can I still enroll?'"
   ]
  },
  {
   "cell_type": "code",
   "execution_count": 18,
   "id": "afdef542-0b2c-4ffd-89ba-2c1ca2c318b5",
   "metadata": {},
   "outputs": [
    {
     "data": {
      "text/plain": [
       "<minsearch.Index at 0x79d61882fdf0>"
      ]
     },
     "execution_count": 18,
     "metadata": {},
     "output_type": "execute_result"
    }
   ],
   "source": [
    "index.fit(docs)"
   ]
  },
  {
   "cell_type": "code",
   "execution_count": 35,
   "id": "5070b025-bdf2-4c7f-ac1a-a22cf6a9faac",
   "metadata": {},
   "outputs": [],
   "source": [
    "boost = {'text': 3.0, 'section': 0.5, 'question': 2.0}\n",
    "\n",
    "docs_retrieved = index.search(\n",
    "    query = q,\n",
    "    filter_dict = {'course': 'data-engineering-zoomcamp'},\n",
    "    boost_dict = boost,\n",
    "    num_results = 10\n",
    ")"
   ]
  },
  {
   "cell_type": "code",
   "execution_count": 29,
   "id": "18e88f60-8d20-4d23-aaf1-a0a6a4dce72e",
   "metadata": {},
   "outputs": [
    {
     "data": {
      "text/plain": [
       "\"Whether you can still enroll in a course that has already started typically depends on several factors, including the institution's policies, the type of course, and how far along the course is. Here are some general steps you can take to find out:\\n\\n1. **Check the Institution's Website:** Look for enrollment deadlines or policies regarding late enrollment.\\n   \\n2. **Contact the Admissions Office:** Reach out to the admissions or registrar's office of the institution offering the course. They can provide specific information and possible accommodations.\\n\\n3. **Speak with the Instructor:** Sometimes, instructors have the discretion to allow late enrollments, especially if you can catch up on missed work.\\n\\n4. **Consider the Course Format:** For some online courses, especially those that are self-paced or asynchronous, late enrollment might be more feasible.\\n\\nWould you like to share more details about the course and institution you're interested in?\""
      ]
     },
     "execution_count": 29,
     "metadata": {},
     "output_type": "execute_result"
    }
   ],
   "source": [
    "get_response(client = client, model=\"gpt-4o\", system_context=\"\", assistant_context=\"\", user_context= q)"
   ]
  },
  {
   "cell_type": "code",
   "execution_count": 48,
   "id": "3c18eff6-57cf-4825-879e-ec2b9a8166e4",
   "metadata": {},
   "outputs": [],
   "source": [
    "prompt_template=\"\"\"\n",
    "You are a teaching assistant. Answer the QUESTION based on the CONTEXT from the faq database.\n",
    "Use only the facts from the CONTEXT when answering the QUESTION.\n",
    "If the CONTEXT doesn't contain the answer, output NONE\n",
    "\n",
    "QUESTION: \n",
    "{question}\n",
    "\n",
    "CONTEXT: \n",
    "{context}\n",
    "\"\"\".strip()"
   ]
  },
  {
   "cell_type": "code",
   "execution_count": 49,
   "id": "2ede5ff9-edd7-479b-ab06-b40e6991cc1f",
   "metadata": {},
   "outputs": [],
   "source": [
    "context = \"\"\n",
    "\n",
    "for doc_retrieved in docs_retrieved:\n",
    "\n",
    "    context = context + f\"Section: {doc_retrieved['section']}\\nQuestion: {doc_retrieved['question']}\\nAnswer: {doc_retrieved['text']}\\n\\n\""
   ]
  },
  {
   "cell_type": "code",
   "execution_count": 52,
   "id": "b94df7f4-4aae-46ec-9bc0-c647c2625bd8",
   "metadata": {},
   "outputs": [],
   "source": [
    "prompt = prompt_template.format(question=q, context=context).strip()"
   ]
  },
  {
   "cell_type": "code",
   "execution_count": 53,
   "id": "2ed78b0d-e102-4797-82a4-de8787df50bb",
   "metadata": {},
   "outputs": [
    {
     "name": "stdout",
     "output_type": "stream",
     "text": [
      "You are a teaching assistant. Answer the QUESTION based on the CONTEXT from the faq database.\n",
      "Use only the facts from the CONTEXT when answering the QUESTION.\n",
      "If the CONTEXT doesn't contain the answer, output NONE\n",
      "\n",
      "QUESTION: \n",
      "Is the course already started? Can I still enroll?\n",
      "\n",
      "CONTEXT: \n",
      "Section: General course-related questions\n",
      "Question: Course - Can I still join the course after the start date?\n",
      "Answer: Yes, even if you don't register, you're still eligible to submit the homeworks.\n",
      "Be aware, however, that there will be deadlines for turning in the final projects. So don't leave everything for the last minute.\n",
      "\n",
      "Section: General course-related questions\n",
      "Question: Course - When will the course start?\n",
      "Answer: The purpose of this document is to capture frequently asked technical questions\n",
      "The exact day and hour of the course will be 15th Jan 2024 at 17h00. The course will start with the first  “Office Hours'' live.1\n",
      "Subscribe to course public Google Calendar (it works from Desktop only).\n",
      "Register before the course starts using this link.\n",
      "Join the course Telegram channel with announcements.\n",
      "Don’t forget to register in DataTalks.Club's Slack and join the channel.\n",
      "\n",
      "Section: General course-related questions\n",
      "Question: Course - Can I follow the course after it finishes?\n",
      "Answer: Yes, we will keep all the materials after the course finishes, so you can follow the course at your own pace after it finishes.\n",
      "You can also continue looking at the homeworks and continue preparing for the next cohort. I guess you can also start working on your final capstone project.\n",
      "\n",
      "Section: General course-related questions\n",
      "Question: Course - Can I get support if I take the course in the self-paced mode?\n",
      "Answer: Yes, the slack channel remains open and you can ask questions there. But always sDocker containers exit code w search the channel first and second, check the FAQ (this document), most likely all your questions are already answered here.\n",
      "You can also tag the bot @ZoomcampQABot to help you conduct the search, but don’t rely on its answers 100%, it is pretty good though.\n",
      "\n",
      "Section: General course-related questions\n",
      "Question: Certificate - Can I follow the course in a self-paced mode and get a certificate?\n",
      "Answer: No, you can only get a certificate if you finish the course with a “live” cohort. We don't award certificates for the self-paced mode. The reason is you need to peer-review capstone(s) after submitting a project. You can only peer-review projects at the time the course is running.\n",
      "\n",
      "Section: General course-related questions\n",
      "Question: Environment - Do we really have to use GitHub codespaces? I already have PostgreSQL & Docker installed.\n",
      "Answer: It's up to you which platform and environment you use for the course.\n",
      "Github codespaces or GCP VM are just possible options, but you can do the entire course from your laptop.\n",
      "\n",
      "Section: General course-related questions\n",
      "Question: Course - What can I do before the course starts?\n",
      "Answer: You can start by installing and setting up all the dependencies and requirements:\n",
      "Google cloud account\n",
      "Google Cloud SDK\n",
      "Python 3 (installed with Anaconda)\n",
      "Terraform\n",
      "Git\n",
      "Look over the prerequisites and syllabus to see if you are comfortable with these subjects.\n",
      "\n",
      "Section: General course-related questions\n",
      "Question: How can we contribute to the course?\n",
      "Answer: Star the repo! Share it with friends if you find it useful ❣️\n",
      "Create a PR if you see you can improve the text or the structure of the repository.\n",
      "\n",
      "Section: General course-related questions\n",
      "Question: Homework - Are late submissions of homework allowed?\n",
      "Answer: No, late submissions are not allowed. But if the form is still not closed and it’s after the due date, you can still submit the homework. confirm your submission by the date-timestamp on the Course page.y\n",
      "Older news:[source1] [source2]\n",
      "\n",
      "Section: General course-related questions\n",
      "Question: Environment - The GCP and other cloud providers are unavailable in some countries. Is it possible to provide a guide to installing a home lab?\n",
      "Answer: You can do most of the course without a cloud. Almost everything we use (excluding BigQuery) can be run locally. We won’t be able to provide guidelines for some things, but most of the materials are runnable without GCP.\n",
      "For everything in the course, there’s a local alternative. You could even do the whole course locally.\n"
     ]
    }
   ],
   "source": [
    "print(prompt)"
   ]
  },
  {
   "cell_type": "code",
   "execution_count": 54,
   "id": "67c506dd-5636-4f5e-9645-e6b1d23ee324",
   "metadata": {},
   "outputs": [
    {
     "data": {
      "text/plain": [
       "\"Yes, the course has already started. However, you can still enroll and participate in the course. Even if you didn't register before it started, you're eligible to submit the homework. Keep in mind that there will be deadlines for turning in the final projects, so avoid leaving everything until the last minute.\""
      ]
     },
     "execution_count": 54,
     "metadata": {},
     "output_type": "execute_result"
    }
   ],
   "source": [
    "get_response(client = client, model=\"gpt-4o\", system_context=\"\", assistant_context=\"\", user_context= prompt)"
   ]
  }
 ],
 "metadata": {
  "kernelspec": {
   "display_name": "Python 3 (ipykernel)",
   "language": "python",
   "name": "python3"
  },
  "language_info": {
   "codemirror_mode": {
    "name": "ipython",
    "version": 3
   },
   "file_extension": ".py",
   "mimetype": "text/x-python",
   "name": "python",
   "nbconvert_exporter": "python",
   "pygments_lexer": "ipython3",
   "version": "3.10.13"
  }
 },
 "nbformat": 4,
 "nbformat_minor": 5
}
